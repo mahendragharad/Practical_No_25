{
  "nbformat": 4,
  "nbformat_minor": 0,
  "metadata": {
    "colab": {
      "provenance": []
    },
    "kernelspec": {
      "name": "python3",
      "display_name": "Python 3"
    },
    "language_info": {
      "name": "python"
    }
  },
  "cells": [
    {
      "cell_type": "markdown",
      "source": [
        "**Question1\n",
        "Create a function that takes three integer arguments (a, b, c) and returns the amount of integers which are of equal value.**\n",
        "\n",
        "**Examples**\n",
        "\n",
        "* **equal(3, 4, 3) ➞ 2**\n",
        "\n",
        "* **equal(1, 1, 1) ➞ 3**\n",
        "\n",
        "* **equal(3, 4, 1) ➞ 0**\n",
        "\n",
        "* **Notes**\n",
        "\n",
        "* **Your function must return 0, 2 or 3.**"
      ],
      "metadata": {
        "id": "xTgP8kLMVEqQ"
      }
    },
    {
      "cell_type": "code",
      "execution_count": 2,
      "metadata": {
        "id": "43AZ2s7jU9Th"
      },
      "outputs": [],
      "source": [
        "def equal(a,b,c) :\n",
        "    l1 = []\n",
        "    count = []\n",
        "    ele = a,b,c\n",
        "    for i in ele :\n",
        "        l1.append(i)\n",
        "    for j in l1 :\n",
        "        count.append(l1.count(j))\n",
        "    count.sort()\n",
        "    no_of_equal_ele = count[-1]\n",
        "    if no_of_equal_ele == 3 :\n",
        "        return 3 \n",
        "    elif no_of_equal_ele == 2 :\n",
        "        return 2 \n",
        "    else :\n",
        "        return 0\n",
        "    "
      ]
    },
    {
      "cell_type": "code",
      "source": [
        "equal(3, 4, 3) "
      ],
      "metadata": {
        "colab": {
          "base_uri": "https://localhost:8080/"
        },
        "id": "i7bw41N2V0tn",
        "outputId": "815e342f-4d8b-4b12-8b5a-2c65253f2b9f"
      },
      "execution_count": 3,
      "outputs": [
        {
          "output_type": "execute_result",
          "data": {
            "text/plain": [
              "2"
            ]
          },
          "metadata": {},
          "execution_count": 3
        }
      ]
    },
    {
      "cell_type": "code",
      "source": [
        "equal(1, 1, 1)"
      ],
      "metadata": {
        "colab": {
          "base_uri": "https://localhost:8080/"
        },
        "id": "fc0DkO54V8d9",
        "outputId": "8404e3ae-5b21-4175-dd40-4bfb05864d01"
      },
      "execution_count": 4,
      "outputs": [
        {
          "output_type": "execute_result",
          "data": {
            "text/plain": [
              "3"
            ]
          },
          "metadata": {},
          "execution_count": 4
        }
      ]
    },
    {
      "cell_type": "code",
      "source": [
        "equal(3, 4, 1)"
      ],
      "metadata": {
        "colab": {
          "base_uri": "https://localhost:8080/"
        },
        "id": "E8so-CJgV-_L",
        "outputId": "82bbc49e-1f57-4bf7-e9e4-6d06f478e5c6"
      },
      "execution_count": 5,
      "outputs": [
        {
          "output_type": "execute_result",
          "data": {
            "text/plain": [
              "0"
            ]
          },
          "metadata": {},
          "execution_count": 5
        }
      ]
    },
    {
      "cell_type": "markdown",
      "source": [
        "\n",
        "\n",
        "---\n",
        "\n"
      ],
      "metadata": {
        "id": "QXTvafU9WCq6"
      }
    },
    {
      "cell_type": "markdown",
      "source": [
        "**Question2**\n",
        "\n",
        "**Write a function that converts a dictionary into a list of keys-values tuples.\n",
        "Examples** \n",
        "\n",
        "dict_to_list({\n",
        "\n",
        "&quot;D&quot;: 1,\n",
        "\n",
        "&quot;B&quot;: 2,\n",
        "\n",
        "&quot;C&quot;: 3\n",
        "\n",
        "}) \n",
        "\n",
        "* ➞ [(&quot;B&quot;, 2), (&quot;C&quot;, 3), (&quot;D&quot;, 1)]\n",
        "\n",
        "\n",
        "dict_to_list({\n",
        "\n",
        "&quot;likes&quot;: 2,\n",
        "\n",
        "&quot;dislikes&quot;: 3,\n",
        "\n",
        "&quot;followers&quot;: 10\n",
        "\n",
        "}) \n",
        "\n",
        "* ➞ [(&quot;dislikes&quot;, 3), (&quot;followers&quot;, 10), (&quot;likes&quot;, 2)]\n",
        "\n",
        "**Notes :\n",
        "Return the elements in the list in alphabetical order.**"
      ],
      "metadata": {
        "id": "r4A0QpBjWNvc"
      }
    },
    {
      "cell_type": "code",
      "source": [
        "def dict_to_list(n) :\n",
        "    l1 = []\n",
        "    for k , v in n.items() :\n",
        "        l1 = l1 + [(k,v)]\n",
        "    l1.sort()\n",
        "    return l1 \n",
        "        "
      ],
      "metadata": {
        "id": "jYrTunqcWBfB"
      },
      "execution_count": 6,
      "outputs": []
    },
    {
      "cell_type": "code",
      "source": [
        "dict_to_list(({\n",
        "\n",
        "\"D\": 1,\n",
        "\n",
        "\"B\": 2,\n",
        "\n",
        "\"C\": 3\n",
        "\n",
        "})) "
      ],
      "metadata": {
        "colab": {
          "base_uri": "https://localhost:8080/"
        },
        "id": "OPv3tc4hEkKY",
        "outputId": "e76a46c5-0154-4b1c-ad4e-75b7e0661317"
      },
      "execution_count": 7,
      "outputs": [
        {
          "output_type": "execute_result",
          "data": {
            "text/plain": [
              "[('B', 2), ('C', 3), ('D', 1)]"
            ]
          },
          "metadata": {},
          "execution_count": 7
        }
      ]
    },
    {
      "cell_type": "code",
      "source": [
        "dict_to_list(({\n",
        "\n",
        "\"likes\": 2,\n",
        "\n",
        "\"dislikes\": 3,\n",
        "\n",
        "\"followers\": 10\n",
        "\n",
        "}))"
      ],
      "metadata": {
        "colab": {
          "base_uri": "https://localhost:8080/"
        },
        "id": "KxMhY15aEkMr",
        "outputId": "6f1899a2-b778-4b86-fca9-a219736e4be1"
      },
      "execution_count": 8,
      "outputs": [
        {
          "output_type": "execute_result",
          "data": {
            "text/plain": [
              "[('dislikes', 3), ('followers', 10), ('likes', 2)]"
            ]
          },
          "metadata": {},
          "execution_count": 8
        }
      ]
    },
    {
      "cell_type": "markdown",
      "source": [
        "\n",
        "\n",
        "---\n",
        "\n"
      ],
      "metadata": {
        "id": "Cdz-yBgVM1dS"
      }
    },
    {
      "cell_type": "markdown",
      "source": [
        "**Question3\n",
        "Write a function that creates a dictionary with each (key, value) pair being the (lower case,\n",
        "upper case) versions of a letter, respectively.**\n",
        "\n",
        "\n",
        "* Examples =>\n",
        "* mapping([&quot;p&quot;, &quot;s&quot;]) ➞ { &quot;p&quot;: &quot;P&quot;, &quot;s&quot;: &quot;S&quot; }\n",
        "\n",
        "\n",
        "* mapping([&quot;a&quot;, &quot;b&quot;, &quot;c&quot;]) ➞ { &quot;a&quot;: &quot;A&quot;, &quot;b&quot;: &quot;B&quot;, &quot;c&quot;: &quot;C&quot; }\n",
        "\n",
        "* mapping([&quot;a&quot;, &quot;v&quot;, &quot;y&quot;, &quot;z&quot;]) ➞ { &quot;a&quot;: &quot;A&quot;, &quot;v&quot;: &quot;V&quot;, &quot;y&quot;: &quot;Y&quot;, &quot;z&quot;: &quot;Z&quot; }\n",
        "\n",
        "**Notes\n",
        "All of the letters in the input list will always be lowercase.**"
      ],
      "metadata": {
        "id": "MwlTrOWeNEEk"
      }
    },
    {
      "cell_type": "code",
      "source": [
        "def mapping(n) :\n",
        "    d1 = {}\n",
        "    for i in n :\n",
        "        d1[i] = i.upper()\n",
        "    return d1"
      ],
      "metadata": {
        "id": "2ys8EwsgEkPR"
      },
      "execution_count": 13,
      "outputs": []
    },
    {
      "cell_type": "code",
      "source": [
        "mapping([\"b\" , \"c\" , \"d\"])"
      ],
      "metadata": {
        "id": "09gjL_SaEkRf",
        "colab": {
          "base_uri": "https://localhost:8080/"
        },
        "outputId": "9d85f1a9-fa5d-4450-9af3-a29447a32a2c"
      },
      "execution_count": 14,
      "outputs": [
        {
          "output_type": "execute_result",
          "data": {
            "text/plain": [
              "{'b': 'B', 'c': 'C', 'd': 'D'}"
            ]
          },
          "metadata": {},
          "execution_count": 14
        }
      ]
    },
    {
      "cell_type": "markdown",
      "source": [
        "\n",
        "\n",
        "---\n",
        "\n"
      ],
      "metadata": {
        "id": "8JPaoiwS9evx"
      }
    },
    {
      "cell_type": "markdown",
      "source": [
        "**Question4\n",
        "Write a function, that replaces all vowels in a string with a specified vowel.**\n",
        "\n",
        "**Examples**\n",
        "\n",
        "* vow_replace(&quot;apples and bananas&quot;, &quot;u&quot;) ➞ &quot;upplus und bununus&quot;\n",
        "\n",
        "* vow_replace(&quot;cheese casserole&quot;, &quot;o&quot;) ➞ &quot;chooso cossorolo&quot;\n",
        "\n",
        "* vow_replace(&quot;stuffed jalapeno poppers&quot;, &quot;e&quot;) ➞ &quot;steffed jelepene peppers&quot;\n",
        "\n",
        "**Notes\n",
        "All words will be lowercase. Y is not considered a vowel.**"
      ],
      "metadata": {
        "id": "4WFv09u-9ril"
      }
    },
    {
      "cell_type": "code",
      "source": [
        "def vow_replace(string , letter) :\n",
        "    owels = [\"a\" , \"e\" , \"i\" , \"o\" , \"u\"]\n",
        "    repl_owels = []\n",
        "    for i in owels :\n",
        "        if i in string :\n",
        "            repl_owels = repl_owels + [i]\n",
        "        for char in repl_owels :\n",
        "            string = string.replace(char , letter)\n",
        "    return string "
      ],
      "metadata": {
        "id": "PrVWz20WO7wY"
      },
      "execution_count": 20,
      "outputs": []
    },
    {
      "cell_type": "code",
      "source": [
        "vow_replace(\"apples and bananos\" , \"m\")"
      ],
      "metadata": {
        "colab": {
          "base_uri": "https://localhost:8080/",
          "height": 36
        },
        "id": "TMFIxCgeB7PV",
        "outputId": "a186c8ca-8a2a-467c-871d-05d7373a3671"
      },
      "execution_count": 21,
      "outputs": [
        {
          "output_type": "execute_result",
          "data": {
            "text/plain": [
              "'mpplms mnd bmnmnms'"
            ],
            "application/vnd.google.colaboratory.intrinsic+json": {
              "type": "string"
            }
          },
          "metadata": {},
          "execution_count": 21
        }
      ]
    },
    {
      "cell_type": "markdown",
      "source": [
        "\n",
        "\n",
        "---\n",
        "\n"
      ],
      "metadata": {
        "id": "gYDNV44lJdRa"
      }
    },
    {
      "cell_type": "markdown",
      "source": [
        "**Question5**\n",
        "\n",
        "**Create a function that takes a string as input and capitalizes a letter if its ASCII code is even and returns its lower case version if its ASCII code is odd.**\n",
        "\n",
        "**Examples**\n",
        "\n",
        "* ascii_capitalize(&quot;to be or not to be!&quot;) ➞ &quot;To Be oR NoT To Be!&quot;\n",
        "\n",
        "* ascii_capitalize(&quot;THE LITTLE MERMAID&quot;) ➞ &quot;THe LiTTLe meRmaiD&quot;\n",
        "\n",
        "* ascii_capitalize(&quot;Oh what a beautiful morning.&quot;) ➞ &quot;oH wHaT a BeauTiFuL\n",
        "moRNiNg.&quot;**"
      ],
      "metadata": {
        "id": "0AT3hMctJfc_"
      }
    },
    {
      "cell_type": "code",
      "source": [
        "def ascii_capitalize(string) :\n",
        "    for i in string :\n",
        "        if ord(i) % 2 == 0 :\n",
        "            string = string.replace(i, i.upper())\n",
        "        else :\n",
        "            string = string.replace(i , i.lower())\n",
        "    return string "
      ],
      "metadata": {
        "id": "hlh396dXHqND"
      },
      "execution_count": 22,
      "outputs": []
    },
    {
      "cell_type": "code",
      "source": [
        " ascii_capitalize(\"to be or not to be\")"
      ],
      "metadata": {
        "colab": {
          "base_uri": "https://localhost:8080/",
          "height": 36
        },
        "id": "qCBITkyJPmLX",
        "outputId": "b7ceffd2-cad1-46af-eb83-33dba815695d"
      },
      "execution_count": 25,
      "outputs": [
        {
          "output_type": "execute_result",
          "data": {
            "text/plain": [
              "'To Be oR NoT To Be'"
            ],
            "application/vnd.google.colaboratory.intrinsic+json": {
              "type": "string"
            }
          },
          "metadata": {},
          "execution_count": 25
        }
      ]
    },
    {
      "cell_type": "code",
      "source": [
        "ascii_capitalize(\"THE LITTLE MERMAID\")"
      ],
      "metadata": {
        "colab": {
          "base_uri": "https://localhost:8080/",
          "height": 36
        },
        "id": "HRlzyYpSPsNX",
        "outputId": "7619e820-ead1-44df-adc5-57514ab8c09f"
      },
      "execution_count": 24,
      "outputs": [
        {
          "output_type": "execute_result",
          "data": {
            "text/plain": [
              "'THe LiTTLe meRmaiD'"
            ],
            "application/vnd.google.colaboratory.intrinsic+json": {
              "type": "string"
            }
          },
          "metadata": {},
          "execution_count": 24
        }
      ]
    },
    {
      "cell_type": "code",
      "source": [
        "ascii_capitalize(\"Oh what a beautiful morning\")"
      ],
      "metadata": {
        "colab": {
          "base_uri": "https://localhost:8080/",
          "height": 36
        },
        "id": "SyqjeVU5Py9j",
        "outputId": "0c6728a3-411d-421f-90dc-9c845c1fbb8c"
      },
      "execution_count": 26,
      "outputs": [
        {
          "output_type": "execute_result",
          "data": {
            "text/plain": [
              "'oH wHaT a BeauTiFuL moRNiNg'"
            ],
            "application/vnd.google.colaboratory.intrinsic+json": {
              "type": "string"
            }
          },
          "metadata": {},
          "execution_count": 26
        }
      ]
    },
    {
      "cell_type": "markdown",
      "source": [
        "\n",
        "\n",
        "---\n",
        "\n"
      ],
      "metadata": {
        "id": "kyCDYO2fQAa_"
      }
    }
  ]
}